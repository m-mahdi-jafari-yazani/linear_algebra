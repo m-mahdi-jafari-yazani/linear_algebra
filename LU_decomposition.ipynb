{
 "cells": [
  {
   "cell_type": "code",
   "execution_count": 1,
   "metadata": {},
   "outputs": [],
   "source": [
    "import numpy as np\n",
    "import math"
   ]
  },
  {
   "cell_type": "code",
   "execution_count": 2,
   "metadata": {},
   "outputs": [],
   "source": [
    "#matrix decomposition function into block matrixes\n",
    "def matrix11(matrix):\n",
    "    matrix11 = np.array([[0.] * 1] * 1)\n",
    "    matrix11[0][0] = matrix[0][0]\n",
    "    return matrix11\n",
    "\n",
    "def matrix12(matrix):\n",
    "    n = int(math.sqrt(matrix.size))\n",
    "    matrix12 = np.array([[0.] * (n-1)] * 1)\n",
    "    for i in range(1, n):\n",
    "        matrix12[0][i-1] = matrix[0][i]\n",
    "    return matrix12\n",
    "\n",
    "def matrix21(matrix):\n",
    "    n = int(math.sqrt(matrix.size))\n",
    "    matrix21 = np.array([[0.] * 1] * (n-1))\n",
    "    for i in range(1, n):\n",
    "        matrix21[i-1][0] = matrix[i][0]\n",
    "    return matrix21\n",
    "\n",
    "def matrix22(matrix):\n",
    "    n = int(math.sqrt(matrix.size))\n",
    "    matrix22 = np.array([[0.] * (n-1)] * (n-1))\n",
    "    for i in range(1,n):\n",
    "        for j in range(1, n):\n",
    "            matrix22[i-1][j-1] = matrix[i][j]\n",
    "    return matrix22"
   ]
  },
  {
   "cell_type": "code",
   "execution_count": 3,
   "metadata": {},
   "outputs": [],
   "source": [
    "#make L11 and L21\n",
    "def L11(matrix):\n",
    "    L11 = np.array([[0.] * 1] * 1)\n",
    "    L11[0][0] = 1\n",
    "    return L11\n",
    "\n",
    "def L21(matrix):\n",
    "    n = int(math.sqrt(matrix.size))\n",
    "    L21 = np.array([[0.] * 1] * (n-1))\n",
    "    for i in range(n-1):\n",
    "        L21[i][0] = matrix21(matrix)[i][0] / matrix11(matrix)[0][0]\n",
    "    return L21"
   ]
  },
  {
   "cell_type": "code",
   "execution_count": 4,
   "metadata": {},
   "outputs": [],
   "source": [
    "#make U11 and U12\n",
    "\n",
    "def U11(matrix):\n",
    "    U11 = np.array([[0.] * 1] * 1)\n",
    "    U11[0][0] = matrix11(matrix)[0][0] \n",
    "    return U11\n",
    "\n",
    "def U12(matrix):\n",
    "    n = int(math.sqrt(matrix.size))\n",
    "    U12 = np.array([[0.] * (n-1)] * 1)\n",
    "    for i in range(n-1):\n",
    "        U12[0][i] = matrix12(matrix)[0][i]\n",
    "    return U12\n"
   ]
  },
  {
   "cell_type": "code",
   "execution_count": 5,
   "metadata": {},
   "outputs": [],
   "source": [
    "#make L21 multiply U12\n",
    "def L21U12(matrix):\n",
    "    n = int(math.sqrt(matrix.size))\n",
    "    L21U12 = np.array([[0.] * (n-1)] * (n-1))\n",
    "    for i in range(n-1):\n",
    "        for j in range(n-1):\n",
    "            L21U12[i][j] += L21(matrix)[i][0] * U12(matrix)[0][j]\n",
    "    return L21U12"
   ]
  },
  {
   "cell_type": "code",
   "execution_count": 6,
   "metadata": {},
   "outputs": [],
   "source": [
    "#find L \n",
    "def L_finder(matrix):\n",
    "    n = int(math.sqrt(matrix.size))\n",
    "\n",
    "    L = np.array([[0.] * n] * n)\n",
    "    L[0][0] += L11(matrix)[0][0]\n",
    "    for i in range(n-1):\n",
    "        L[i+1][0] += L21(matrix)[i][0]\n",
    "\n",
    "    if(n == 1):\n",
    "        return L\n",
    "    else:\n",
    "        for i in range(n-1):\n",
    "            for j in range(n-1):\n",
    "                L[i+1][j+1] += L_finder(matrix22(matrix) - L21U12(matrix))[i][j]\n",
    "    return L\n"
   ]
  },
  {
   "cell_type": "code",
   "execution_count": 7,
   "metadata": {},
   "outputs": [],
   "source": [
    "#find U\n",
    "def U_finder(matrix):\n",
    "    n = int(math.sqrt(matrix.size))\n",
    "\n",
    "    U = np.array([[0.] * n] * n)\n",
    "    U[0][0] += U11(matrix)[0][0]\n",
    "    for i in range(n-1):\n",
    "        U[0][i+1] = U12(matrix)[0][i]\n",
    "\n",
    "    if(n == 1):\n",
    "        return U\n",
    "    else:\n",
    "        for i in range(n-1):\n",
    "            for j in range(n-1):\n",
    "                U[i+1][j+1] += U_finder(matrix22(matrix) - L21U12(matrix))[i][j]\n",
    "    return U"
   ]
  },
  {
   "cell_type": "code",
   "execution_count": 8,
   "metadata": {},
   "outputs": [],
   "source": [
    "#make matrix\n",
    "n  = int(input(\"input the dimension of matrix : \"))\n",
    "entries = []\n",
    "for i in range (n*n):\n",
    "    entries.append(float(input()))\n",
    "matrix = np.array(entries).reshape(n, n)"
   ]
  },
  {
   "cell_type": "code",
   "execution_count": 9,
   "metadata": {},
   "outputs": [
    {
     "name": "stdout",
     "output_type": "stream",
     "text": [
      "matrix : \n",
      "[[  9.   3.   3.]\n",
      " [  3.  17.  21.]\n",
      " [  3.  21. 107.]]\n",
      "..............................\n",
      "matrix11 : \n",
      "[[9.]]\n",
      "..............................\n",
      "matrix12 : \n",
      "[[3. 3.]]\n",
      "..............................\n",
      "matrix21 : \n",
      "[[3.]\n",
      " [3.]]\n",
      "..............................\n",
      "matrix22 : \n",
      "[[ 17.  21.]\n",
      " [ 21. 107.]]\n"
     ]
    }
   ],
   "source": [
    "#print our matrixes\n",
    "print(\"matrix : \")\n",
    "print(matrix)\n",
    "print(\"..............................\")\n",
    "print(\"matrix11 : \")\n",
    "print(matrix11(matrix))\n",
    "print(\"..............................\")\n",
    "print(\"matrix12 : \")\n",
    "print(matrix12(matrix))\n",
    "print(\"..............................\")\n",
    "print(\"matrix21 : \")\n",
    "print(matrix21(matrix))\n",
    "print(\"..............................\")\n",
    "print(\"matrix22 : \")\n",
    "print(matrix22(matrix))"
   ]
  },
  {
   "cell_type": "code",
   "execution_count": 10,
   "metadata": {},
   "outputs": [
    {
     "name": "stdout",
     "output_type": "stream",
     "text": [
      "L : \n",
      "[[1.         0.         0.        ]\n",
      " [0.33333333 1.         0.        ]\n",
      " [0.33333333 1.25       1.        ]]\n",
      "..............................\n",
      "L11 : \n",
      "[[1.]]\n",
      "..............................\n",
      "L21 : \n",
      "[[0.33333333]\n",
      " [0.33333333]]\n",
      "..............................\n",
      "L22 : \n",
      "[[1.   0.  ]\n",
      " [1.25 1.  ]]\n",
      "..............................\n"
     ]
    }
   ],
   "source": [
    "#print our matrixes\n",
    "print(\"L : \")\n",
    "print(L_finder(matrix))\n",
    "print(\"..............................\")\n",
    "print(\"L11 : \")\n",
    "print(L11(matrix))\n",
    "print(\"..............................\")\n",
    "print(\"L21 : \")\n",
    "print(L21(matrix))\n",
    "print(\"..............................\")\n",
    "print(\"L22 : \")\n",
    "print(L_finder(matrix22(matrix) - L21U12(matrix)))\n",
    "print(\"..............................\")"
   ]
  },
  {
   "cell_type": "code",
   "execution_count": 11,
   "metadata": {},
   "outputs": [
    {
     "name": "stdout",
     "output_type": "stream",
     "text": [
      "U : \n",
      "[[ 9.  3.  3.]\n",
      " [ 0. 16. 20.]\n",
      " [ 0.  0. 81.]]\n",
      "..............................\n",
      "U11 : \n",
      "[[9.]]\n",
      "..............................\n",
      "U12 : \n",
      "[[3. 3.]]\n",
      "..............................\n",
      "U22 : \n",
      "[[16. 20.]\n",
      " [ 0. 81.]]\n",
      "..............................\n"
     ]
    }
   ],
   "source": [
    "#print our matrixes\n",
    "print(\"U : \")\n",
    "print(U_finder(matrix))\n",
    "print(\"..............................\")\n",
    "print(\"U11 : \")\n",
    "print(U11(matrix))\n",
    "print(\"..............................\")\n",
    "print(\"U12 : \")\n",
    "print(U12(matrix))\n",
    "print(\"..............................\")\n",
    "print(\"U22 : \")\n",
    "print(U_finder(matrix22(matrix) - L21U12(matrix)))\n",
    "print(\"..............................\")"
   ]
  },
  {
   "cell_type": "code",
   "execution_count": 12,
   "metadata": {},
   "outputs": [
    {
     "name": "stdout",
     "output_type": "stream",
     "text": [
      "L21 * U12 : \n",
      "[[1. 1.]\n",
      " [1. 1.]]\n",
      "..............................\n",
      "L22 * U22 : \n",
      "[[ 16.  20.]\n",
      " [ 20. 106.]]\n"
     ]
    }
   ],
   "source": [
    "#print our matrixes\n",
    "print(\"L21 * U12 : \")\n",
    "print(L21U12(matrix))\n",
    "print(\"..............................\")\n",
    "print(\"L22 * U22 : \")\n",
    "print(matrix22(matrix) - L21U12(matrix))"
   ]
  },
  {
   "cell_type": "code",
   "execution_count": 13,
   "metadata": {},
   "outputs": [
    {
     "name": "stdout",
     "output_type": "stream",
     "text": [
      "RESULT :\n",
      "\n",
      "our matrix :\n",
      "[[  9.   3.   3.]\n",
      " [  3.  17.  21.]\n",
      " [  3.  21. 107.]]\n",
      "\n",
      "L decoposition :\n",
      "[[1.         0.         0.        ]\n",
      " [0.33333333 1.         0.        ]\n",
      " [0.33333333 1.25       1.        ]]\n",
      "\n",
      "U decomposition :\n",
      "[[ 9.  3.  3.]\n",
      " [ 0. 16. 20.]\n",
      " [ 0.  0. 81.]]\n"
     ]
    }
   ],
   "source": [
    "#print the result\n",
    "print(\"RESULT :\")\n",
    "print()\n",
    "print(\"our matrix :\")\n",
    "print(matrix)\n",
    "print()\n",
    "print(\"L decoposition :\")\n",
    "print(L_finder(matrix))\n",
    "print()\n",
    "print(\"U decomposition :\")\n",
    "print(U_finder(matrix))"
   ]
  }
 ],
 "metadata": {
  "kernelspec": {
   "display_name": "Python 3",
   "language": "python",
   "name": "python3"
  },
  "language_info": {
   "codemirror_mode": {
    "name": "ipython",
    "version": 3
   },
   "file_extension": ".py",
   "mimetype": "text/x-python",
   "name": "python",
   "nbconvert_exporter": "python",
   "pygments_lexer": "ipython3",
   "version": "3.12.3"
  }
 },
 "nbformat": 4,
 "nbformat_minor": 2
}
