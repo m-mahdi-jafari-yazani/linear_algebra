{
 "cells": [
  {
   "cell_type": "code",
   "execution_count": 1,
   "metadata": {},
   "outputs": [],
   "source": [
    "import numpy as np\n",
    "import math\n",
    "from scipy.linalg import ishermitian"
   ]
  },
  {
   "cell_type": "code",
   "execution_count": 2,
   "metadata": {},
   "outputs": [],
   "source": [
    "#matrix decomposition function into block matrixes\n",
    "def matrix11(matrix):\n",
    "    matrix11 = np.array([[0.] * 1] * 1)\n",
    "    matrix11[0][0] = matrix[0][0]\n",
    "    return matrix11\n",
    "\n",
    "def matrix12(matrix):\n",
    "    n = int(math.sqrt(matrix.size))\n",
    "    matrix12 = np.array([[0.] * (n-1)] * 1)\n",
    "    for i in range(1, n):\n",
    "        matrix12[0][i-1] = matrix[0][i]\n",
    "    return matrix12\n",
    "\n",
    "def matrix21(matrix):\n",
    "    n = int(math.sqrt(matrix.size))\n",
    "    matrix21 = np.array([[0.] * 1] * (n-1))\n",
    "    for i in range(1, n):\n",
    "        matrix21[i-1][0] = matrix[i][0]\n",
    "    return matrix21\n",
    "\n",
    "def matrix22(matrix):\n",
    "    n = int(math.sqrt(matrix.size))\n",
    "    matrix22 = np.array([[0.] * (n-1)] * (n-1))\n",
    "    for i in range(1,n):\n",
    "        for j in range(1, n):\n",
    "            matrix22[i-1][j-1] = matrix[i][j]\n",
    "    return matrix22"
   ]
  },
  {
   "cell_type": "code",
   "execution_count": 3,
   "metadata": {},
   "outputs": [],
   "source": [
    "#make L11 and L21 and L21 transpose(L21T)\n",
    "def L11(matrix):\n",
    "    L11 = np.array([[0.] * 1] * 1)\n",
    "    L11[0][0] = math.sqrt(matrix11(matrix))\n",
    "    return L11\n",
    "\n",
    "def L21(matrix):\n",
    "    n = int(math.sqrt(matrix.size))\n",
    "    L21 = np.array([[0.] * 1] * (n-1))\n",
    "    for i in range(n-1):\n",
    "        L21[i][0] = matrix21(matrix)[i][0] / L11(matrix)[0][0]\n",
    "    return L21\n",
    "\n",
    "def L21T(matrix):\n",
    "    n = int(math.sqrt(matrix.size))\n",
    "    L21T = np.array([[0.] * (n-1)] * 1)\n",
    "    for i in range(n-1):\n",
    "        L21T[0][i] = L21(matrix)[i][0]\n",
    "    return L21T"
   ]
  },
  {
   "cell_type": "code",
   "execution_count": 4,
   "metadata": {},
   "outputs": [],
   "source": [
    "#make L21 multiply L21T\n",
    "def L21L12T(matrix):\n",
    "    n = int(math.sqrt(matrix.size))\n",
    "    L21L12T = np.array([[0.] * (n-1)] * (n-1))\n",
    "    for i in range(n-1):\n",
    "        for j in range(n-1):\n",
    "            L21L12T[i][j] += L21(matrix)[i][0] * L21T(matrix)[0][j]\n",
    "    return L21L12T"
   ]
  },
  {
   "cell_type": "code",
   "execution_count": 5,
   "metadata": {},
   "outputs": [],
   "source": [
    "#find L \n",
    "def L_finder(matrix):\n",
    "    n = int(math.sqrt(matrix.size))\n",
    "\n",
    "    L = np.array([[0.] * n] * n)\n",
    "    L[0][0] += L11(matrix)[0][0]\n",
    "    for i in range(n-1):\n",
    "        L[i+1][0] += L21(matrix)[i][0]\n",
    "\n",
    "    if(n == 1):\n",
    "        return L\n",
    "    else:\n",
    "        for i in range(n-1):\n",
    "            for j in range(n-1):\n",
    "                L[i+1][j+1] += L_finder(matrix22(matrix) - L21L12T(matrix))[i][j]\n",
    "    return L\n"
   ]
  },
  {
   "cell_type": "code",
   "execution_count": 6,
   "metadata": {},
   "outputs": [],
   "source": [
    "#make matrix and check qualification\n",
    "n  = int(input(\"input the dimension of matrix : \"))\n",
    "entries = []\n",
    "for i in range (n*n):\n",
    "    entries.append(float(input()))\n",
    "matrix = np.array(entries).reshape(n, n)\n",
    "\n",
    "if(ishermitian(matrix) == False):\n",
    "   print(\"this matrix is not hermitan, please enter a hermitan matrix\")\n",
    "else:\n",
    "    flag = True\n",
    "    for i in range(1,n+1):\n",
    "        a = np.array([[0.] * i] * i)\n",
    "        for j in range(i):\n",
    "            for k in range(i):\n",
    "                a[j][k] = matrix[j][k]\n",
    "        if(int(np.linalg.det(a)) <= 0):\n",
    "            flag = False\n",
    "    if(flag == False):\n",
    "        print(\"this matrix is not positive definite matrix, please enter a positive definite matrix\")\n"
   ]
  },
  {
   "cell_type": "code",
   "execution_count": 7,
   "metadata": {},
   "outputs": [
    {
     "name": "stdout",
     "output_type": "stream",
     "text": [
      "matrix : \n",
      "[[  9.   3.   3.]\n",
      " [  3.  17.  21.]\n",
      " [  3.  21. 107.]]\n",
      "..............................\n",
      "matrix11 : \n",
      "[[9.]]\n",
      "..............................\n",
      "matrix12 : \n",
      "[[3. 3.]]\n",
      "..............................\n",
      "matrix21 : \n",
      "[[3.]\n",
      " [3.]]\n",
      "..............................\n",
      "matrix22 : \n",
      "[[ 17.  21.]\n",
      " [ 21. 107.]]\n"
     ]
    }
   ],
   "source": [
    "#print our matrixes\n",
    "print(\"matrix : \")\n",
    "print(matrix)\n",
    "print(\"..............................\")\n",
    "print(\"matrix11 : \")\n",
    "print(matrix11(matrix))\n",
    "print(\"..............................\")\n",
    "print(\"matrix12 : \")\n",
    "print(matrix12(matrix))\n",
    "print(\"..............................\")\n",
    "print(\"matrix21 : \")\n",
    "print(matrix21(matrix))\n",
    "print(\"..............................\")\n",
    "print(\"matrix22 : \")\n",
    "print(matrix22(matrix))"
   ]
  },
  {
   "cell_type": "code",
   "execution_count": 8,
   "metadata": {},
   "outputs": [
    {
     "name": "stdout",
     "output_type": "stream",
     "text": [
      "L : \n",
      "[[3. 0. 0.]\n",
      " [1. 4. 0.]\n",
      " [1. 5. 9.]]\n",
      "..............................\n",
      "L Transpose : \n",
      "[[3. 1. 1.]\n",
      " [0. 4. 5.]\n",
      " [0. 0. 9.]]\n",
      "..............................\n",
      "L11 : \n",
      "[[3.]]\n",
      "..............................\n",
      "L21 : \n",
      "[[1.]\n",
      " [1.]]\n",
      "..............................\n",
      "L21 Transpose : \n",
      "[[1. 1.]]\n",
      "..............................\n",
      "L22 : \n",
      "[[4. 0.]\n",
      " [5. 9.]]\n",
      "..............................\n",
      "L22 Transpose : \n",
      "[[4. 5.]\n",
      " [0. 9.]]\n"
     ]
    },
    {
     "name": "stderr",
     "output_type": "stream",
     "text": [
      "/var/folders/gt/ypsmnmx90c32m2w9gjtxk1xm0000gn/T/ipykernel_20528/1754867528.py:4: DeprecationWarning: Conversion of an array with ndim > 0 to a scalar is deprecated, and will error in future. Ensure you extract a single element from your array before performing this operation. (Deprecated NumPy 1.25.)\n",
      "  L11[0][0] = math.sqrt(matrix11(matrix))\n"
     ]
    }
   ],
   "source": [
    "#print our matrixes\n",
    "print(\"L : \")\n",
    "print(L_finder(matrix))\n",
    "print(\"..............................\")\n",
    "print(\"L Transpose : \")\n",
    "print(L_finder(matrix).T)\n",
    "print(\"..............................\")\n",
    "print(\"L11 : \")\n",
    "print(L11(matrix))\n",
    "print(\"..............................\")\n",
    "print(\"L21 : \")\n",
    "print(L21(matrix))\n",
    "print(\"..............................\")\n",
    "print(\"L21 Transpose : \" )\n",
    "print(L21T(matrix))\n",
    "print(\"..............................\")\n",
    "print(\"L22 : \")\n",
    "print(L_finder(matrix22(matrix) - L21L12T(matrix)))\n",
    "print(\"..............................\")\n",
    "print(\"L22 Transpose : \")\n",
    "print(L_finder(matrix22(matrix) - L21L12T(matrix)).T)"
   ]
  },
  {
   "cell_type": "code",
   "execution_count": 9,
   "metadata": {},
   "outputs": [
    {
     "name": "stdout",
     "output_type": "stream",
     "text": [
      "L21 * L21T : \n",
      "[[1. 1.]\n",
      " [1. 1.]]\n",
      "..............................\n",
      "L22 * L22T : \n",
      "[[ 16.  20.]\n",
      " [ 20. 106.]]\n"
     ]
    },
    {
     "name": "stderr",
     "output_type": "stream",
     "text": [
      "/var/folders/gt/ypsmnmx90c32m2w9gjtxk1xm0000gn/T/ipykernel_20528/1754867528.py:4: DeprecationWarning: Conversion of an array with ndim > 0 to a scalar is deprecated, and will error in future. Ensure you extract a single element from your array before performing this operation. (Deprecated NumPy 1.25.)\n",
      "  L11[0][0] = math.sqrt(matrix11(matrix))\n"
     ]
    }
   ],
   "source": [
    "#print our matrixes\n",
    "print(\"L21 * L21T : \")\n",
    "print(L21L12T(matrix))\n",
    "print(\"..............................\")\n",
    "print(\"L22 * L22T : \")\n",
    "print(matrix22(matrix) - L21L12T(matrix))"
   ]
  },
  {
   "cell_type": "code",
   "execution_count": 10,
   "metadata": {},
   "outputs": [
    {
     "name": "stdout",
     "output_type": "stream",
     "text": [
      "RESULT :\n",
      "\n",
      "our matrix :\n",
      "[[  9.   3.   3.]\n",
      " [  3.  17.  21.]\n",
      " [  3.  21. 107.]]\n",
      "\n",
      "L decoposition :\n",
      "[[3. 0. 0.]\n",
      " [1. 4. 0.]\n",
      " [1. 5. 9.]]\n",
      "\n",
      "L Transpose decomposition :\n",
      "[[3. 1. 1.]\n",
      " [0. 4. 5.]\n",
      " [0. 0. 9.]]\n"
     ]
    },
    {
     "name": "stderr",
     "output_type": "stream",
     "text": [
      "/var/folders/gt/ypsmnmx90c32m2w9gjtxk1xm0000gn/T/ipykernel_20528/1754867528.py:4: DeprecationWarning: Conversion of an array with ndim > 0 to a scalar is deprecated, and will error in future. Ensure you extract a single element from your array before performing this operation. (Deprecated NumPy 1.25.)\n",
      "  L11[0][0] = math.sqrt(matrix11(matrix))\n"
     ]
    }
   ],
   "source": [
    "#print the result\n",
    "print(\"RESULT :\")\n",
    "print()\n",
    "print(\"our matrix :\")\n",
    "print(matrix)\n",
    "print()\n",
    "print(\"L decoposition :\")\n",
    "print(L_finder(matrix))\n",
    "print()\n",
    "print(\"L Transpose decomposition :\")\n",
    "print(L_finder(matrix).T)"
   ]
  }
 ],
 "metadata": {
  "kernelspec": {
   "display_name": "Python 3",
   "language": "python",
   "name": "python3"
  },
  "language_info": {
   "codemirror_mode": {
    "name": "ipython",
    "version": 3
   },
   "file_extension": ".py",
   "mimetype": "text/x-python",
   "name": "python",
   "nbconvert_exporter": "python",
   "pygments_lexer": "ipython3",
   "version": "3.12.3"
  }
 },
 "nbformat": 4,
 "nbformat_minor": 2
}
